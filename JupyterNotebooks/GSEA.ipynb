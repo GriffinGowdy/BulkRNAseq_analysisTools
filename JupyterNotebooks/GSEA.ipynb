{
 "cells": [
  {
   "cell_type": "code",
   "execution_count": null,
   "id": "be911b8a",
   "metadata": {},
   "outputs": [],
   "source": [
    "%matplotlib inline\n",
    "%config InlineBackend.figure_format='retina' \n",
    "%load_ext autoreload\n",
    "%autoreload 2\n",
    "import pandas as pd\n",
    "import numpy as np\n",
    "import gseapy as gp\n",
    "from matplotlib import pyplot as plt\n",
    "from tqdm import tqdm\n",
    "import pickle\n",
    "from gseapy import barplot, dotplot"
   ]
  },
  {
   "cell_type": "code",
   "execution_count": null,
   "id": "8a9ecf32",
   "metadata": {},
   "outputs": [],
   "source": [
    "inputExcelPath = \"sigX_data.xlsx\"\n",
    "\n",
    "rawUpDF = pd.read_excel(inputExcelPath, sheet_name = \"Increased in PAOSX\")[[\"Locus tag\", \"Gene name\", \"Fold change\", \"T statistic\", \"P-value\"]]\n",
    "rawDownDF = pd.read_excel(inputExcelPath, sheet_name = \"Decreased in PAOSX\")[[\"Locus tag\", \"Gene name\", \"Fold change\", \"T statistic\", \"P-value\"]]\n",
    "\n",
    "backgroundPAO1 = pd.read_csv(\"PAO1_Conversion_df.csv\")[\"Locus Tag\"].to_list()"
   ]
  },
  {
   "cell_type": "code",
   "execution_count": null,
   "id": "657bdd3b",
   "metadata": {},
   "outputs": [],
   "source": [
    "with open(\"pae_kegg_pathways.gmt\", \"r\") as f:\n",
    "    paths = f.read()\n",
    "paths = paths.split(sep = \"\\n\")\n",
    "paths\n",
    "\n",
    "def filterPathwayLength(inputPaths, minLength):\n",
    "    outPaths = []\n",
    "    for path in inputPaths:\n",
    "        spath = path.split(\"\\t\")[2:]\n",
    "        if len(spath) >= minLength:\n",
    "            outPaths.append(path)\n",
    "    with open(\"tmp.gmt\", \"w\") as w:\n",
    "        for path in outPaths:\n",
    "            w.write(path + \"\\n\")\n",
    "\n",
    "filterPathwayLength(paths, 10)"
   ]
  },
  {
   "cell_type": "code",
   "execution_count": null,
   "id": "920e44e8",
   "metadata": {},
   "outputs": [],
   "source": [
    "enr = gp.enrich(\n",
    "    gene_list = rawUpDF[\"Locus tag\"].to_list(),\n",
    "    gene_sets = \"tmp.gmt\",\n",
    "    background = backgroundPAO1,\n",
    "    outdir = None,\n",
    "    verbose = True\n",
    "    )\n",
    "# gseapy is just a wrapper for Enrichr, which yields this output:\n",
    "# p = p-value computed using the Fisher exact test (Hypergeometric test)\n",
    "# z = z-score (Odds Ratio)\n",
    "# combine score = - log(p)·z        \n",
    "\n",
    "enrOut = enr.results\n",
    "\n",
    "with open('pae_descriptions.pkl', 'rb') as f:\n",
    "    pathway2desc = pickle.load(f)\n",
    "    \n",
    "enrOut['PathName'] = enrOut['Term'].map(pathway2desc)"
   ]
  },
  {
   "cell_type": "code",
   "execution_count": null,
   "id": "12cc18a4",
   "metadata": {},
   "outputs": [],
   "source": [
    "sigOut = enrOut.loc[enrOut[\"Adjusted P-value\"] <= 0.05].sort_values(by = \"Adjusted P-value\")\n",
    "sigOut[\"Term\"] = sigOut[\"PathName\"]\n",
    "sigOut[\"Combined Score\"] = sigOut[\"Combined Score\"].apply(lambda x: np.log10(x) if x > 0 else 0)"
   ]
  },
  {
   "cell_type": "code",
   "execution_count": null,
   "id": "ccac95d9",
   "metadata": {},
   "outputs": [],
   "source": [
    "dotInputDf = sigOut.copy().head(20)\n",
    "\n",
    "ax = dotplot(dotInputDf,\n",
    "             hue = \"Adjusted P-value\",\n",
    "             y_order = dotInputDf[\"Term\"].tolist(),\n",
    "             x = None,\n",
    "             top_term = 20,\n",
    "             figsize = (5,15),\n",
    "             xticklabels_rot = 45,\n",
    "             show_ring = True,\n",
    "             marker = 'o'\n",
    "             )\n",
    "ax.set_xlabel(\"log10(Combined Score)\")  # <-- Add this line\n"
   ]
  },
  {
   "cell_type": "code",
   "execution_count": null,
   "id": "d3e95e15",
   "metadata": {},
   "outputs": [],
   "source": [
    "ax = barplot(sigOut,\n",
    "             column = \"Adjusted P-value\",\n",
    "             top_term = 10,\n",
    "             figsize=(10,10),\n",
    "             hue = \"Overlap\"\n",
    "             )"
   ]
  }
 ],
 "metadata": {
  "kernelspec": {
   "display_name": ".venv",
   "language": "python",
   "name": "python3"
  },
  "language_info": {
   "codemirror_mode": {
    "name": "ipython",
    "version": 3
   },
   "file_extension": ".py",
   "mimetype": "text/x-python",
   "name": "python",
   "nbconvert_exporter": "python",
   "pygments_lexer": "ipython3",
   "version": "3.13.2"
  }
 },
 "nbformat": 4,
 "nbformat_minor": 5
}
