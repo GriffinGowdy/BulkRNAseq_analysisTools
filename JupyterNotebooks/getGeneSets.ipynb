{
 "cells": [
  {
   "cell_type": "code",
   "execution_count": 1,
   "id": "a82fc54f",
   "metadata": {},
   "outputs": [
    {
     "name": "stdout",
     "output_type": "stream",
     "text": [
      "pae00010\thttp://www.kegg.jp/dbget-bin/www_bget?pae00010\tPA0552\tPA0555\tPA0887\tPA1017\tPA1498\tPA1587\tPA1770\tPA1982\tPA1984\tPA2250\tPA2266\tPA2275\tPA2323\tPA2555\tPA3001\tPA3193\tPA3195\tPA3629\tPA3635\tPA4022\tPA4152\tPA4329\tPA4732\tPA4733\tPA4748\tPA4829\tPA4899\tPA4978\tPA5015\tPA5016\tPA5110\tPA5131\tPA5192\tPA5322\tPA5422\tPA5427\n",
      "pae00020\thttp://www.kegg.jp/dbget-bin/www_bget?pae00020\tPA0795\tPA0854\tPA1562\tPA1580\tPA1581\tPA1582\tPA1583\tPA1584\tPA1585\tPA1586\tPA1587\tPA1588\tPA1589\tPA1787\tPA2250\tPA2623\tPA2624\tPA3452\tPA4152\tPA4333\tPA4470\tPA4640\tPA4829\tPA5015\tPA5016\tPA5192\tPA5435\tPA5436\tPA5445\n",
      "pae00030\thttp://www.kegg.jp/dbget-bin/www_bget?pae00030\tPA0330\tPA0548\tPA0555\tPA0607\tPA0849\tPA1499\tPA1950\tPA2261\tPA2263\tPA2264\tPA2265\tPA2290\tPA2321\tPA2323\tPA2796\tPA3131\tPA3181\tPA3182\tPA3183\tPA3194\tPA3373\tPA3896\tPA4204\tPA4670\tPA4732\tPA5110\tPA5322\tPA5439\n",
      "pae00040\thttp://www.kegg.jp/dbget-bin/www_bget?pae00040\tPA0224\tPA0607\tPA1253\tPA2022\tPA2023\tPA2217\tPA2343\tPA3559\n",
      "pae00051\thttp://www.kegg.jp/dbget-bin/www_bget?pae00051\tPA0224\tPA0555\tPA2232\tPA2342\tPA2344\tPA3540\tPA3541\tPA3542\tPA3545\tPA3547\tPA3551\tPA3560\tPA3561\tPA4748\tPA5110\tPA5322\tPA5452\tPA5453\tPA5454\n"
     ]
    }
   ],
   "source": [
    "import pandas as pd\n",
    "import numpy as np\n",
    "from matplotlib import pyplot as plt\n",
    "import requests\n",
    "from tqdm import tqdm\n",
    "import pickle\n",
    "\n",
    "paePathways = requests.get(\"http://rest.kegg.jp/link/pathway/pae\").text\n",
    "pathDict = {}\n",
    "for line in paePathways.strip().split(\"\\n\"):\n",
    "    try:\n",
    "        loctag, path = line.strip().split(\"\\t\")  # Fixed: correct order\n",
    "        loctag = loctag.replace(\"pae:\", \"\")\n",
    "        path = path.replace(\"path:\", \"\")\n",
    "        if path not in pathDict.keys():\n",
    "            pathDict[path] = []\n",
    "        pathDict[path].append(loctag)\n",
    "    except ValueError:\n",
    "        continue\n",
    "\n",
    "with open(\"pae_kegg_pathways.gmt\", \"w\") as gmt:\n",
    "    for pw in pathDict:\n",
    "        description = f\"http://www.kegg.jp/dbget-bin/www_bget?{pw}\"\n",
    "        genes = pathDict[pw]\n",
    "        gmt.write(f\"{pw}\\t{description}\\t\" + \"\\t\".join(genes) + \"\\n\")\n",
    "\n",
    "# Check the GMT file\n",
    "with open(\"pae_kegg_pathways.gmt\", \"r\") as gmt:\n",
    "    for _ in range(5):  # Print first 5 lines\n",
    "        print(gmt.readline().strip())"
   ]
  },
  {
   "cell_type": "code",
   "execution_count": 2,
   "id": "ab4c1fdf",
   "metadata": {},
   "outputs": [
    {
     "name": "stderr",
     "output_type": "stream",
     "text": [
      "100%|██████████| 136/136 [03:34<00:00,  1.58s/it]\n"
     ]
    }
   ],
   "source": [
    "# Get set annotation\n",
    "\n",
    "pathDef = {}\n",
    "\n",
    "for i in tqdm(pathDict.keys()):\n",
    "    url = f\"http://rest.kegg.jp/get/{i}\"\n",
    "    res = requests.get(url)\n",
    "    for line in res.text.splitlines():\n",
    "        if line.startswith(\"NAME\"):\n",
    "            pathDef[i] = line.replace(\"NAME\", \"\").strip().replace(\" - Pseudomonas aeruginosa PAO1\", \"\")\n",
    "            break\n",
    "\n",
    "with open('pae_descriptions.pkl', 'wb') as f:\n",
    "    pickle.dump(pathDef, f)"
   ]
  }
 ],
 "metadata": {
  "kernelspec": {
   "display_name": ".venv",
   "language": "python",
   "name": "python3"
  },
  "language_info": {
   "codemirror_mode": {
    "name": "ipython",
    "version": 3
   },
   "file_extension": ".py",
   "mimetype": "text/x-python",
   "name": "python",
   "nbconvert_exporter": "python",
   "pygments_lexer": "ipython3",
   "version": "3.13.2"
  }
 },
 "nbformat": 4,
 "nbformat_minor": 5
}
