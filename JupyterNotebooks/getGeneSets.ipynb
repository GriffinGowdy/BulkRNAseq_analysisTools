{
 "cells": [
  {
   "cell_type": "code",
   "execution_count": null,
   "id": "a82fc54f",
   "metadata": {},
   "outputs": [],
   "source": [
    "import pandas as pd\n",
    "import numpy as np\n",
    "from matplotlib import pyplot as plt\n",
    "import requests\n",
    "from tqdm import tqdm\n",
    "import pickle\n",
    "\n",
    "KEGGPrefix = 'ftu'\n",
    "\n",
    "url = \"http://rest.kegg.jp/link/pathway/\" + KEGGPrefix\n",
    "\n",
    "paePathways = requests.get(url).text\n",
    "pathDict = {}\n",
    "for line in paePathways.strip().split(\"\\n\"):\n",
    "    try:\n",
    "        loctag, path = line.strip().split(\"\\t\")  # Fixed: correct order\n",
    "        loctag = loctag.replace(KEGGPrefix + ':', \"\")\n",
    "        path = path.replace(\"path:\", \"\")\n",
    "        if path not in pathDict.keys():\n",
    "            pathDict[path] = []\n",
    "        pathDict[path].append(loctag)\n",
    "    except ValueError:\n",
    "        continue\n",
    "\n",
    "gmtFileName = KEGGPrefix + \"_kegg_pathways.gmt\"\n",
    "\n",
    "with open(gmtFileName, \"w\") as gmt:\n",
    "    for pw in pathDict:\n",
    "        description = f\"http://www.kegg.jp/dbget-bin/www_bget?{pw}\"\n",
    "        genes = pathDict[pw]\n",
    "        gmt.write(f\"{pw}\\t{description}\\t\" + \"\\t\".join(genes) + \"\\n\")\n",
    "\n",
    "pathDef = {}\n",
    "\n",
    "for i in tqdm(pathDict.keys()):\n",
    "    url = f\"http://rest.kegg.jp/get/{i}\"\n",
    "    res = requests.get(url)\n",
    "    for line in res.text.splitlines():\n",
    "        if line.startswith(\"NAME\"):\n",
    "            pathDef[i] = line.split(sep = \" - \")[0].replace(\"NAME\", \"\").strip()\n",
    "            break\n",
    "\n",
    "pickleUrl = KEGGPrefix + '_descriptions.pkl'\n",
    "\n",
    "with open(pickleUrl, 'wb') as f:\n",
    "    pickle.dump(pathDef, f)"
   ]
  },
  {
   "cell_type": "code",
   "execution_count": null,
   "id": "ab4c1fdf",
   "metadata": {},
   "outputs": [],
   "source": [
    "# Check the GMT file\n",
    "with open(gmtFileName, \"r\") as gmt:\n",
    "    for _ in range(5):  # Print first 5 lines\n",
    "        print(gmt.readline().strip())"
   ]
  }
 ],
 "metadata": {
  "kernelspec": {
   "display_name": ".venv",
   "language": "python",
   "name": "python3"
  },
  "language_info": {
   "codemirror_mode": {
    "name": "ipython",
    "version": 3
   },
   "file_extension": ".py",
   "mimetype": "text/x-python",
   "name": "python",
   "nbconvert_exporter": "python",
   "pygments_lexer": "ipython3",
   "version": "3.13.2"
  }
 },
 "nbformat": 4,
 "nbformat_minor": 5
}
